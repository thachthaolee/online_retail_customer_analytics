{
 "cells": [
  {
   "cell_type": "markdown",
   "id": "2273b12a",
   "metadata": {},
   "source": [
    "Link : https://www.kaggle.com/code/adarshcgowda/new-rfmt-model-for-segmentation-1st-in-kaggle\n",
    "\n",
    "# Customer Segmentation by enhanced RFM\n",
    "This Notebook introduce new dimension called Inter-Purchase Time(T) to the traditional RFM (Recency, Frequency and Monatery) Model. New attribute \"T\" will include the customer dynamic purchasing behaviour within their shopping cycle.\n",
    "But why RFMT? although RFM model is been in use predominantly across industries..\n",
    "\n",
    "Well, lets quickly look at some facts.\n",
    "\n",
    "RFM Model was proposed by Hughes in 1994 to analyze customer behaviors. Implementing RFM Model permanently is challenging due to the unpredictable nature of human behavior and the potential for inaccurate results. Therefore, it is vital to include criteria which explain the buying habit of individuals. So lets 🏊‍♂️ into context.\n",
    "\n",
    "Your UPVOTE == Encouragement to do such notebooks in future and Check my other notebooks for many such content"
   ]
  },
  {
   "cell_type": "markdown",
   "id": "c0291f80",
   "metadata": {},
   "source": [
    "# Markdown template\n",
    "<a id=\"8\"></a>\n",
    "# <p style=\"border-radius: 10px; border: 4px solid #2E1A47; background-color: #F5F5DC; font-family: 'Rockwell', cursive; font-weight: bold; font-size: 150%; text-align: center; border-radius: 15px 50px; padding: 5px; box-shadow: 4px 4px 4px #556B2F; color: #556B2F;\">🧾 Content Based Filtering 🧾</p>\n",
    "\n",
    "<a id = \"10\"></a><br>\n",
    "## <p style=\"font-family: 'Rockwell', cursive; font-weight: bold; letter-spacing: 2px; color: #556B2F; font-size: 180%; text-align: left; padding: 0px; border-bottom: 3px solid\">✨TF-IDF✨</p>\n",
    "<a id = \"11\"></a><br>\n",
    "## <p style=\"font-family: 'Rockwell', cursive; font-weight: bold; letter-spacing: 2px; color: #556B2F; font-size: 180%; text-align: left; padding: 0px; border-bottom: 3px solid\">✨Content Based Recommender System✨</p>\n",
    "<a id = \"12\"></a><br>\n",
    "### <div style=\"font-family:JetBrains Mono; font-weight:bold; letter-spacing: 2px; color:#E5788F; font-size:150%; text-align:left; padding: 0px;\">Data Preprocessing</div>\n",
    "\n",
    "<div style=\"border-radius:10px; border:#65647C solid; padding: 15px; background-color: #F8EDE3; font-size:100%; text-align:left\">\n",
    "\n",
    "<h3 align=\"left\"><font color='#7D6E83'><b>🗨️ Comment: </b></font></h3>\n",
    "\n",
    "* We recommended 10 similar films to Jumanji. Recommendations were made based on the internal features of the films (actors, director, description).\n",
    "</div>\n",
    "\n",
    "<a id=\"15\"></a>\n",
    "# <p style=\"border-radius: 10px; border: 4px solid #2E1A47; background-color: #F5F5DC; font-family: 'Rockwell', cursive; font-weight: bold; font-size: 150%; text-align: center; border-radius: 15px 50px; padding: 5px; box-shadow: 4px 4px 4px #556B2F; color: #556B2F;\">🫂 Collaborative Filtering 🫂</p>\n",
    "\n",
    "<div style=\"border-radius:10px; border:#65647C solid; padding: 15px; background-color: #F8EDE3; font-size:100%; text-align:left\">\n",
    "\n",
    "<h3 align=\"left\"><font color='#7D6E83'><b>🤔 Inferences: </b></font></h3>\n",
    "\n",
    "* Default weights for latent features, assumed to exist for users and movies, are determined from existing data, and predictions are made for missing observations using these weights.\n",
    "* The User-Item matrix is decomposed into two smaller matrices.\n",
    "</div>\n",
    "\n",
    "<div style=\"border-radius: 10px; border: #6B8E23 solid; padding: 15px; background-color: #F5F5DC; font-size: 100%; text-align: left\">\n",
    "\n",
    "<h3 align=\"left\"><font color='#556B2F'>⚠️ Critical Challenges of Recommendation Engines ⚠️ </font></h3>\n",
    "    \n",
    "1. **Significant investments required:** Recommendation engines are a costly investment both financially and in terms of time. They require expertise, resources, and continuous maintenance.\n",
    "</div>\n",
    "\n",
    "<div style=\"border-radius:10px; border:#867070 solid; padding: 15px; background-color: #F5EBEB; font-size:100%; text-align:left\">\n",
    "\n",
    "<h3 align=\"left\"><font color='#5E5273'>👻 Analysis Results: </font></h3>\n",
    "    \n",
    "This Kaggle notebook is designed as a guide covering the fundamental approaches and methods of recommendation systems. We begin with the \"🍔 Association Rule Learning 🍟\" section, starting with the Apriori algorithm, to construct an association rule-based recommendation system. This method provides a useful approach to offer product recommendations based on users' previous shopping histories.\n",
    "</div>"
   ]
  },
  {
   "cell_type": "markdown",
   "id": "cc265307",
   "metadata": {},
   "source": [
    "# Introduction\n",
    "Customer segmentation is a process of diving all customers into distinct groups that share similar characteristics, such as demographics, interests, patterns or location and can help business focus marketing efforts and resources on valuable, loyal customers to achieve business goals. Customer segmentation can be performed with customers' demographic, geographic, behavioral and psychological data. Digital business has increased rapidly during covid-19 and it is extemeùly important to maintain long-term relationship with customer. In US, 85% of new product launch was reported failed because for poor market segmentation. Therefore, more study and improvments is required on the consumer behavioral and engagement."
   ]
  },
  {
   "cell_type": "markdown",
   "id": "89510326",
   "metadata": {},
   "source": [
    "# Importing the libraries"
   ]
  },
  {
   "cell_type": "code",
   "execution_count": 4,
   "id": "4dd3ca25",
   "metadata": {},
   "outputs": [],
   "source": [
    "import numpy as np\n",
    "import pandas as pd\n",
    "import datetime as dt\n",
    "import seaborn as sns\n",
    "import matplotlib.pyplot as plt\n"
   ]
  },
  {
   "cell_type": "markdown",
   "id": "309c136d",
   "metadata": {},
   "source": [
    "# Loading and reading the dataset"
   ]
  },
  {
   "cell_type": "code",
   "execution_count": 15,
   "id": "64a72bf6",
   "metadata": {},
   "outputs": [],
   "source": [
    "df_2009_2010 = pd.read_csv(\"../dataset/Year 2009-2010.csv\", sep = \",\", header = 0,  encoding='ISO-8859-1')\n",
    "df_2010_2011 = pd.read_csv(\"../dataset/Year 2010-2011.csv\", sep = \",\", header = 0,  encoding='ISO-8859-1')"
   ]
  },
  {
   "cell_type": "code",
   "execution_count": 18,
   "id": "e91f98fb",
   "metadata": {},
   "outputs": [],
   "source": [
    "df = pd.concat([df_2009_2010, df_2010_2011], ignore_index=True)"
   ]
  },
  {
   "cell_type": "code",
   "execution_count": 23,
   "id": "fca736d1",
   "metadata": {},
   "outputs": [
    {
     "name": "stdout",
     "output_type": "stream",
     "text": [
      "------------------------------------------------------ SHAPE OF DATASET -----------------------------------------------------\n",
      "Rows:1067371\n",
      "Columns:8\n",
      "------------------------------------------------------------ HEAD -----------------------------------------------------------\n",
      "  Invoice StockCode                          Description  Quantity  \\\n",
      "0  489434     85048  15CM CHRISTMAS GLASS BALL 20 LIGHTS        12   \n",
      "1  489434    79323P                   PINK CHERRY LIGHTS        12   \n",
      "2  489434    79323W                  WHITE CHERRY LIGHTS        12   \n",
      "3  489434     22041         RECORD FRAME 7\" SINGLE SIZE         48   \n",
      "4  489434     21232       STRAWBERRY CERAMIC TRINKET BOX        24   \n",
      "\n",
      "      InvoiceDate  Price  Customer ID         Country  \n",
      "0  12/1/2009 7:45   6.95      13085.0  United Kingdom  \n",
      "1  12/1/2009 7:45   6.75      13085.0  United Kingdom  \n",
      "2  12/1/2009 7:45   6.75      13085.0  United Kingdom  \n",
      "3  12/1/2009 7:45   2.10      13085.0  United Kingdom  \n",
      "4  12/1/2009 7:45   1.25      13085.0  United Kingdom  \n",
      "----------------------------------------------------------DATA TYPES---------------------------------------------------------\n",
      "object     5\n",
      "float64    2\n",
      "int64      1\n",
      "Name: count, dtype: int64\n",
      "------------------------------------------------------- MISSING VALUES ------------------------------------------------------\n",
      "Customer ID    243007\n",
      "Description      4382\n",
      "dtype: int64\n",
      "----------------------------------------------------- DUPLICATED VALUES -----------------------------------------------------\n",
      "34335\n",
      "----------------------------------------------------- STATISTICS OF DATA ----------------------------------------------------\n",
      "        Invoice StockCode                         Description      Quantity  \\\n",
      "count   1067371   1067371                             1062989  1.067371e+06   \n",
      "unique    53628      5305                                5698           NaN   \n",
      "top      537434    85123A  WHITE HANGING HEART T-LIGHT HOLDER           NaN   \n",
      "freq       1350      5829                                5918           NaN   \n",
      "mean        NaN       NaN                                 NaN  9.938898e+00   \n",
      "std         NaN       NaN                                 NaN  1.727058e+02   \n",
      "min         NaN       NaN                                 NaN -8.099500e+04   \n",
      "25%         NaN       NaN                                 NaN  1.000000e+00   \n",
      "50%         NaN       NaN                                 NaN  3.000000e+00   \n",
      "75%         NaN       NaN                                 NaN  1.000000e+01   \n",
      "max         NaN       NaN                                 NaN  8.099500e+04   \n",
      "\n",
      "            InvoiceDate         Price    Customer ID         Country  \n",
      "count           1067371  1.067371e+06  824364.000000         1067371  \n",
      "unique            47635           NaN            NaN              43  \n",
      "top     12/6/2010 16:57           NaN            NaN  United Kingdom  \n",
      "freq               1350           NaN            NaN          981330  \n",
      "mean                NaN  4.649388e+00   15324.638504             NaN  \n",
      "std                 NaN  1.235531e+02    1697.464450             NaN  \n",
      "min                 NaN -5.359436e+04   12346.000000             NaN  \n",
      "25%                 NaN  1.250000e+00   13975.000000             NaN  \n",
      "50%                 NaN  2.100000e+00   15255.000000             NaN  \n",
      "75%                 NaN  4.150000e+00   16797.000000             NaN  \n",
      "max                 NaN  3.897000e+04   18287.000000             NaN  \n",
      "----------------------------------------------------------DATA INFO----------------------------------------------------------\n",
      "<class 'pandas.core.frame.DataFrame'>\n",
      "RangeIndex: 1067371 entries, 0 to 1067370\n",
      "Data columns (total 8 columns):\n",
      " #   Column       Non-Null Count    Dtype  \n",
      "---  ------       --------------    -----  \n",
      " 0   Invoice      1067371 non-null  object \n",
      " 1   StockCode    1067371 non-null  object \n",
      " 2   Description  1062989 non-null  object \n",
      " 3   Quantity     1067371 non-null  int64  \n",
      " 4   InvoiceDate  1067371 non-null  object \n",
      " 5   Price        1067371 non-null  float64\n",
      " 6   Customer ID  824364 non-null   float64\n",
      " 7   Country      1067371 non-null  object \n",
      "dtypes: float64(2), int64(1), object(5)\n",
      "memory usage: 65.1+ MB\n",
      "None\n"
     ]
    }
   ],
   "source": [
    "pd.set_option('display.max_columns', None) \n",
    "def data_overview(df, head=5):\n",
    "    print(\" SHAPE OF DATASET \".center(125,'-'))\n",
    "    print('Rows:{}'.format(df.shape[0]))\n",
    "    print('Columns:{}'.format(df.shape[1]))\n",
    "    print(\" HEAD \".center(125,'-'))\n",
    "    print(df.head(head))\n",
    "    print(\"DATA TYPES\".center(125,'-'))\n",
    "    print(df.dtypes.value_counts())\n",
    "    print(\" MISSING VALUES \".center(125,'-'))\n",
    "    print(df.isnull().sum()[df.isnull().sum()>0].sort_values(ascending = False))\n",
    "    print(\" DUPLICATED VALUES \".center(125,'-'))\n",
    "    print(df.duplicated().sum())\n",
    "    print(\" STATISTICS OF DATA \".center(125,'-'))\n",
    "    print(df.describe(include=\"all\"))\n",
    "    print(\"DATA INFO\".center(125,'-'))\n",
    "    print(df.info())\n",
    "    \n",
    "    \n",
    "data_overview(df)"
   ]
  },
  {
   "cell_type": "markdown",
   "id": "1abaeb17",
   "metadata": {},
   "source": [
    "<div style=\"border-radius:10px; border:#65647C solid; padding: 15px; background-color: #F8EDE3; font-size:100%; text-align:left\">\n",
    "\n",
    "<h3 align=\"left\"><font color='#7D6E83'><b>🗨️ Comment: </b></font></h3>\n",
    "\n",
    "## Point to be noted\n",
    "- The dataset has 1 067 371 rows and 8 columns which has ``Quantity``, ``Price`` and ``Customer ID`` in type int64/float64. However, ``Invoice`` column is in type object beacause there are rows stard with 'c' mean canceled items -> need to be cleaned. ``InvoiceDate`` comlumn so now is in type object -> need to be transformed into type datetime.\n",
    "- The dataset has missing values in ``Customer ID`` (243 007) and ``Description`` (4 382) column.\n",
    "- There are 34 335 rows in duplicate.\n",
    "- Some aberant values / outliers in ``Quantity`` column (min in negative value), the same in ``Price`` column."
   ]
  },
  {
   "cell_type": "markdown",
   "id": "600f3955",
   "metadata": {},
   "source": [
    "<a id = \"5\"></a><br>\n",
    "# <div style=\"font-family:JetBrains Mono; font-weight:bold; letter-spacing: 2px; color:#E5788F; font-size:150%; text-align:left; padding: 0px;\">Data wrangling</div>\n"
   ]
  },
  {
   "cell_type": "markdown",
   "id": "cf76e8c5",
   "metadata": {},
   "source": [
    "## Deal with missing values"
   ]
  },
  {
   "cell_type": "markdown",
   "id": "9b29ee96",
   "metadata": {},
   "source": [
    "## Removing cancelled product from invoice"
   ]
  },
  {
   "cell_type": "markdown",
   "id": "d224532a",
   "metadata": {},
   "source": [
    "## Removing duplicates"
   ]
  },
  {
   "cell_type": "markdown",
   "id": "b2d08f56",
   "metadata": {},
   "source": [
    "## Checking for negative values"
   ]
  },
  {
   "cell_type": "markdown",
   "id": "f9b25f76",
   "metadata": {},
   "source": [
    "## Cleaning outliers"
   ]
  },
  {
   "cell_type": "markdown",
   "id": "6c412594",
   "metadata": {},
   "source": []
  }
 ],
 "metadata": {
  "kernelspec": {
   "display_name": "Python 3",
   "language": "python",
   "name": "python3"
  },
  "language_info": {
   "codemirror_mode": {
    "name": "ipython",
    "version": 3
   },
   "file_extension": ".py",
   "mimetype": "text/x-python",
   "name": "python",
   "nbconvert_exporter": "python",
   "pygments_lexer": "ipython3",
   "version": "3.13.0"
  }
 },
 "nbformat": 4,
 "nbformat_minor": 5
}
